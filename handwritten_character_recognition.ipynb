{
  "metadata": {
    "kernelspec": {
      "language": "python",
      "display_name": "Python 3",
      "name": "python3"
    },
    "language_info": {
      "name": "python",
      "version": "3.7.9",
      "mimetype": "text/x-python",
      "codemirror_mode": {
        "name": "ipython",
        "version": 3
      },
      "pygments_lexer": "ipython3",
      "nbconvert_exporter": "python",
      "file_extension": ".py"
    },
    "kaggle": {
      "accelerator": "gpu",
      "dataSources": [
        {
          "sourceId": 1400106,
          "sourceType": "datasetVersion",
          "datasetId": 818027
        }
      ],
      "dockerImageVersionId": 30068,
      "isInternetEnabled": true,
      "language": "python",
      "sourceType": "notebook",
      "isGpuEnabled": true
    },
    "colab": {
      "provenance": []
    }
  },
  "nbformat_minor": 0,
  "nbformat": 4,
  "cells": [
    {
      "cell_type": "markdown",
      "source": [
        "# **HANDWRITTEN CHARACTER RECOGNITION ✍️**\n"
      ],
      "metadata": {
        "id": "CA_nrik2EVX_"
      }
    },
    {
      "cell_type": "markdown",
      "source": [
        "\n",
        "![1_AO2rIhzRYzFVQlFLx9DM9A.png](data:image/png;base64,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)"
      ],
      "metadata": {
        "id": "zWFjQ5bSEYOm"
      }
    },
    {
      "cell_type": "markdown",
      "source": [
        "## About the dataset\n"
      ],
      "metadata": {
        "id": "EtLAYeLVEdCY"
      }
    },
    {
      "cell_type": "markdown",
      "source": [
        "\n",
        "This dataset consists of more than four hundred thousand handwritten names collected through charity projects.\n",
        "\n",
        "Character Recognition utilizes image processing technologies to convert characters on scanned documents into digital forms. It typically performs well in machine-printed fonts. However, it still poses difficult challenges for machines to recognize handwritten characters, because of the huge variation in individual writing styles.\n",
        "\n",
        "There are 206,799 first names and 207,024 surnames in total. The data was divided into a training set (331,059), testing set (41,382), and validation set (41,382) respectively."
      ],
      "metadata": {
        "id": "sgH0hhMAEdj-"
      }
    },
    {
      "cell_type": "markdown",
      "source": [
        "## Data Exploration"
      ],
      "metadata": {
        "id": "Hmm126tPEjTK"
      }
    },
    {
      "cell_type": "code",
      "source": [
        "import pandas as pd\n",
        "import numpy as np\n",
        "import keras\n",
        "import keras.layers as L\n",
        "import keras.models as M\n",
        "import tensorflow as tf\n",
        "from PIL import Image\n",
        "import os\n",
        "import matplotlib.pyplot as plt\n",
        "import cv2\n",
        "from keras.utils import Sequence"
      ],
      "metadata": {
        "_uuid": "8f2839f25d086af736a60e9eeb907d3b93b6e0e5",
        "_cell_guid": "b1076dfc-b9ad-4769-8c92-a6c4dae69d19",
        "execution": {
          "iopub.status.busy": "2023-12-26T11:12:27.139670Z",
          "iopub.execute_input": "2023-12-26T11:12:27.140108Z",
          "iopub.status.idle": "2023-12-26T11:12:32.460078Z",
          "shell.execute_reply.started": "2023-12-26T11:12:27.140020Z",
          "shell.execute_reply": "2023-12-26T11:12:32.459363Z"
        },
        "trusted": true,
        "id": "iapPB2bpES_o"
      },
      "execution_count": null,
      "outputs": []
    },
    {
      "cell_type": "code",
      "source": [
        "train=pd.read_csv('../input/handwriting-recognition/written_name_train_v2.csv')\n",
        "validation=pd.read_csv('../input/handwriting-recognition/written_name_validation_v2.csv')"
      ],
      "metadata": {
        "execution": {
          "iopub.status.busy": "2023-12-26T11:12:32.461972Z",
          "iopub.execute_input": "2023-12-26T11:12:32.462276Z",
          "iopub.status.idle": "2023-12-26T11:12:33.136496Z",
          "shell.execute_reply.started": "2023-12-26T11:12:32.462247Z",
          "shell.execute_reply": "2023-12-26T11:12:33.135680Z"
        },
        "trusted": true,
        "id": "Wy_yGuJoES_q"
      },
      "execution_count": null,
      "outputs": []
    },
    {
      "cell_type": "code",
      "source": [
        "train.dropna(inplace=True)"
      ],
      "metadata": {
        "execution": {
          "iopub.status.busy": "2023-12-26T11:12:33.137806Z",
          "iopub.execute_input": "2023-12-26T11:12:33.138195Z",
          "iopub.status.idle": "2023-12-26T11:12:33.246199Z",
          "shell.execute_reply.started": "2023-12-26T11:12:33.138152Z",
          "shell.execute_reply": "2023-12-26T11:12:33.245458Z"
        },
        "trusted": true,
        "id": "v3cTmHWKES_r"
      },
      "execution_count": null,
      "outputs": []
    },
    {
      "cell_type": "code",
      "source": [
        "train.head()"
      ],
      "metadata": {
        "execution": {
          "iopub.status.busy": "2023-12-26T11:12:33.247568Z",
          "iopub.execute_input": "2023-12-26T11:12:33.247931Z",
          "iopub.status.idle": "2023-12-26T11:12:33.268167Z",
          "shell.execute_reply.started": "2023-12-26T11:12:33.247894Z",
          "shell.execute_reply": "2023-12-26T11:12:33.266840Z"
        },
        "trusted": true,
        "id": "P71yqBDXES_r",
        "outputId": "e37accc1-ac51-4af5-ed53-a9cc61f4bf3c"
      },
      "execution_count": null,
      "outputs": [
        {
          "execution_count": 4,
          "output_type": "execute_result",
          "data": {
            "text/plain": "          FILENAME   IDENTITY\n0  TRAIN_00001.jpg  BALTHAZAR\n1  TRAIN_00002.jpg      SIMON\n2  TRAIN_00003.jpg      BENES\n3  TRAIN_00004.jpg    LA LOVE\n4  TRAIN_00005.jpg     DAPHNE",
            "text/html": "<div>\n<style scoped>\n    .dataframe tbody tr th:only-of-type {\n        vertical-align: middle;\n    }\n\n    .dataframe tbody tr th {\n        vertical-align: top;\n    }\n\n    .dataframe thead th {\n        text-align: right;\n    }\n</style>\n<table border=\"1\" class=\"dataframe\">\n  <thead>\n    <tr style=\"text-align: right;\">\n      <th></th>\n      <th>FILENAME</th>\n      <th>IDENTITY</th>\n    </tr>\n  </thead>\n  <tbody>\n    <tr>\n      <th>0</th>\n      <td>TRAIN_00001.jpg</td>\n      <td>BALTHAZAR</td>\n    </tr>\n    <tr>\n      <th>1</th>\n      <td>TRAIN_00002.jpg</td>\n      <td>SIMON</td>\n    </tr>\n    <tr>\n      <th>2</th>\n      <td>TRAIN_00003.jpg</td>\n      <td>BENES</td>\n    </tr>\n    <tr>\n      <th>3</th>\n      <td>TRAIN_00004.jpg</td>\n      <td>LA LOVE</td>\n    </tr>\n    <tr>\n      <th>4</th>\n      <td>TRAIN_00005.jpg</td>\n      <td>DAPHNE</td>\n    </tr>\n  </tbody>\n</table>\n</div>"
          },
          "metadata": {}
        }
      ]
    },
    {
      "cell_type": "markdown",
      "source": [
        "## Data Pre-Processing"
      ],
      "metadata": {
        "id": "OmyCEMrmEmEI"
      }
    },
    {
      "cell_type": "code",
      "source": [
        "train[train['IDENTITY']=='zucchi']"
      ],
      "metadata": {
        "execution": {
          "iopub.status.busy": "2023-12-26T11:12:33.272108Z",
          "iopub.execute_input": "2023-12-26T11:12:33.272505Z",
          "iopub.status.idle": "2023-12-26T11:12:33.340623Z",
          "shell.execute_reply.started": "2023-12-26T11:12:33.272460Z",
          "shell.execute_reply": "2023-12-26T11:12:33.339550Z"
        },
        "trusted": true,
        "id": "UF7TV4vmES_s",
        "outputId": "12c47beb-dffa-4366-9f87-d90fc7229cb2"
      },
      "execution_count": null,
      "outputs": [
        {
          "execution_count": 5,
          "output_type": "execute_result",
          "data": {
            "text/plain": "              FILENAME IDENTITY\n20507  TRAIN_20508.jpg   zucchi",
            "text/html": "<div>\n<style scoped>\n    .dataframe tbody tr th:only-of-type {\n        vertical-align: middle;\n    }\n\n    .dataframe tbody tr th {\n        vertical-align: top;\n    }\n\n    .dataframe thead th {\n        text-align: right;\n    }\n</style>\n<table border=\"1\" class=\"dataframe\">\n  <thead>\n    <tr style=\"text-align: right;\">\n      <th></th>\n      <th>FILENAME</th>\n      <th>IDENTITY</th>\n    </tr>\n  </thead>\n  <tbody>\n    <tr>\n      <th>20507</th>\n      <td>TRAIN_20508.jpg</td>\n      <td>zucchi</td>\n    </tr>\n  </tbody>\n</table>\n</div>"
          },
          "metadata": {}
        }
      ]
    },
    {
      "cell_type": "code",
      "source": [
        "train['Length']=train['IDENTITY'].apply(lambda x : len(str(x)))\n",
        "train=train[train['Length']<=21]\n",
        "train['IDENTITY']=train['IDENTITY'].str.upper()\n",
        "train[train['Length']==max(train['Length'])]"
      ],
      "metadata": {
        "execution": {
          "iopub.status.busy": "2023-12-26T11:12:33.343170Z",
          "iopub.execute_input": "2023-12-26T11:12:33.343544Z",
          "iopub.status.idle": "2023-12-26T11:12:33.893323Z",
          "shell.execute_reply.started": "2023-12-26T11:12:33.343506Z",
          "shell.execute_reply": "2023-12-26T11:12:33.892407Z"
        },
        "trusted": true,
        "id": "rXRN-HpXES_t",
        "outputId": "ee2e3c46-c07d-4479-b660-20d9805e57a3"
      },
      "execution_count": null,
      "outputs": [
        {
          "execution_count": 6,
          "output_type": "execute_result",
          "data": {
            "text/plain": "                FILENAME               IDENTITY  Length\n10278    TRAIN_10279.jpg  DOSSANTOS LASCONCELOS      21\n108567  TRAIN_108568.jpg  O ZUARRDI EREBEVITRAC      21\n156500  TRAIN_156501.jpg  ANDRIANNARISOA--DEGHI      21\n160575  TRAIN_160576.jpg  LOUISIANE - EVANGELIN      21\n174121  TRAIN_174122.jpg  GU ILLOSSOO - OARRIBA      21\n212583  TRAIN_212584.jpg  DE MALEZIEUX DU HAMEL      21\n220135  TRAIN_220136.jpg  COSTREL DE CORAINVILL      21\n229529  TRAIN_229530.jpg  ROUSSEAV -- CHAUDIERE      21\n230011  TRAIN_230012.jpg  BEKNARD DE LAVERNETTE      21\n308769  TRAIN_308770.jpg  DATE NAISSANCE CLASSE      21\n325215  TRAIN_325216.jpg  BEHARY - LAUL - SIRDE      21",
            "text/html": "<div>\n<style scoped>\n    .dataframe tbody tr th:only-of-type {\n        vertical-align: middle;\n    }\n\n    .dataframe tbody tr th {\n        vertical-align: top;\n    }\n\n    .dataframe thead th {\n        text-align: right;\n    }\n</style>\n<table border=\"1\" class=\"dataframe\">\n  <thead>\n    <tr style=\"text-align: right;\">\n      <th></th>\n      <th>FILENAME</th>\n      <th>IDENTITY</th>\n      <th>Length</th>\n    </tr>\n  </thead>\n  <tbody>\n    <tr>\n      <th>10278</th>\n      <td>TRAIN_10279.jpg</td>\n      <td>DOSSANTOS LASCONCELOS</td>\n      <td>21</td>\n    </tr>\n    <tr>\n      <th>108567</th>\n      <td>TRAIN_108568.jpg</td>\n      <td>O ZUARRDI EREBEVITRAC</td>\n      <td>21</td>\n    </tr>\n    <tr>\n      <th>156500</th>\n      <td>TRAIN_156501.jpg</td>\n      <td>ANDRIANNARISOA--DEGHI</td>\n      <td>21</td>\n    </tr>\n    <tr>\n      <th>160575</th>\n      <td>TRAIN_160576.jpg</td>\n      <td>LOUISIANE - EVANGELIN</td>\n      <td>21</td>\n    </tr>\n    <tr>\n      <th>174121</th>\n      <td>TRAIN_174122.jpg</td>\n      <td>GU ILLOSSOO - OARRIBA</td>\n      <td>21</td>\n    </tr>\n    <tr>\n      <th>212583</th>\n      <td>TRAIN_212584.jpg</td>\n      <td>DE MALEZIEUX DU HAMEL</td>\n      <td>21</td>\n    </tr>\n    <tr>\n      <th>220135</th>\n      <td>TRAIN_220136.jpg</td>\n      <td>COSTREL DE CORAINVILL</td>\n      <td>21</td>\n    </tr>\n    <tr>\n      <th>229529</th>\n      <td>TRAIN_229530.jpg</td>\n      <td>ROUSSEAV -- CHAUDIERE</td>\n      <td>21</td>\n    </tr>\n    <tr>\n      <th>230011</th>\n      <td>TRAIN_230012.jpg</td>\n      <td>BEKNARD DE LAVERNETTE</td>\n      <td>21</td>\n    </tr>\n    <tr>\n      <th>308769</th>\n      <td>TRAIN_308770.jpg</td>\n      <td>DATE NAISSANCE CLASSE</td>\n      <td>21</td>\n    </tr>\n    <tr>\n      <th>325215</th>\n      <td>TRAIN_325216.jpg</td>\n      <td>BEHARY - LAUL - SIRDE</td>\n      <td>21</td>\n    </tr>\n  </tbody>\n</table>\n</div>"
          },
          "metadata": {}
        }
      ]
    },
    {
      "cell_type": "code",
      "source": [
        "train=train.sample(frac=0.8,random_state=42)\n",
        "validation=validation.sample(frac=0.1)"
      ],
      "metadata": {
        "execution": {
          "iopub.status.busy": "2023-12-26T11:12:33.894411Z",
          "iopub.execute_input": "2023-12-26T11:12:33.894667Z",
          "iopub.status.idle": "2023-12-26T11:12:33.957247Z",
          "shell.execute_reply.started": "2023-12-26T11:12:33.894642Z",
          "shell.execute_reply": "2023-12-26T11:12:33.956461Z"
        },
        "trusted": true,
        "id": "6S24vSpUES_t"
      },
      "execution_count": null,
      "outputs": []
    },
    {
      "cell_type": "code",
      "source": [
        "characters=set()\n",
        "train['IDENTITY']=train['IDENTITY'].apply(lambda x: str(x))\n",
        "for i in train['IDENTITY'].values:\n",
        "    for j in i :\n",
        "        if j not in characters :\n",
        "            characters.add(j)\n",
        "characters=sorted(characters)"
      ],
      "metadata": {
        "execution": {
          "iopub.status.busy": "2023-12-26T11:12:33.958551Z",
          "iopub.execute_input": "2023-12-26T11:12:33.958813Z",
          "iopub.status.idle": "2023-12-26T11:12:34.409856Z",
          "shell.execute_reply.started": "2023-12-26T11:12:33.958788Z",
          "shell.execute_reply": "2023-12-26T11:12:34.409128Z"
        },
        "trusted": true,
        "id": "Bs5norNJES_t"
      },
      "execution_count": null,
      "outputs": []
    },
    {
      "cell_type": "code",
      "source": [
        "# 2 Dictionaries  :   Turn all ur characters to num and vice versa\n",
        "char_to_label = {char:label for label,char in enumerate(characters)}\n",
        "label_to_char = {label:char for label,char in enumerate(characters)}"
      ],
      "metadata": {
        "execution": {
          "iopub.status.busy": "2023-12-26T11:12:34.410976Z",
          "iopub.execute_input": "2023-12-26T11:12:34.411244Z",
          "iopub.status.idle": "2023-12-26T11:12:34.415473Z",
          "shell.execute_reply.started": "2023-12-26T11:12:34.411217Z",
          "shell.execute_reply": "2023-12-26T11:12:34.414683Z"
        },
        "trusted": true,
        "id": "J4aP3yauES_t"
      },
      "execution_count": null,
      "outputs": []
    },
    {
      "cell_type": "code",
      "source": [
        "path_train='../input/handwriting-recognition/train_v2/train'\n",
        "path_validation='../input/handwriting-recognition/validation_v2/validation'"
      ],
      "metadata": {
        "execution": {
          "iopub.status.busy": "2023-12-26T11:12:34.416912Z",
          "iopub.execute_input": "2023-12-26T11:12:34.417298Z",
          "iopub.status.idle": "2023-12-26T11:12:34.424714Z",
          "shell.execute_reply.started": "2023-12-26T11:12:34.417261Z",
          "shell.execute_reply": "2023-12-26T11:12:34.424019Z"
        },
        "trusted": true,
        "id": "SVGB4Ek-ES_u"
      },
      "execution_count": null,
      "outputs": []
    },
    {
      "cell_type": "code",
      "source": [
        "# Data Generator\n",
        "class DataGenerator(Sequence):\n",
        "    def __init__(self,dataframe,path,char_map,batch_size=128,img_size=(256,64),\n",
        "                 downsample_factor=4,max_length=22,shuffle=True):\n",
        "        self.dataframe=dataframe\n",
        "        self.path=path\n",
        "        self.char_map=char_map\n",
        "        self.batch_size=batch_size\n",
        "        self.width=img_size[0]\n",
        "        self.height=img_size[1]\n",
        "        self.downsample_factor=downsample_factor\n",
        "        self.max_length=max_length\n",
        "        self.shuffle=shuffle\n",
        "        self.indices = np.arange(len(dataframe))\n",
        "        self.on_epoch_end()\n",
        "\n",
        "    def __len__(self):\n",
        "        return len(self.dataframe)//self.batch_size\n",
        "\n",
        "    def __getitem__(self,idx):\n",
        "        curr_batch_idx=self.indices[idx*self.batch_size:(idx+1)*self.batch_size]\n",
        "        batch_images=np.ones((self.batch_size,self.width,self.height,1),dtype=np.float32)\n",
        "        batch_labels=np.ones((self.batch_size,self.max_length),dtype=np.float32)\n",
        "        input_length=np.ones((self.batch_size,1),dtype=np.float32)*(self.width//self.downsample_factor-2)\n",
        "        label_length=np.zeros((self.batch_size,1),dtype=np.int64)\n",
        "        for i,idx in enumerate(curr_batch_idx):\n",
        "            img_path=self.dataframe['FILENAME'].values[idx]\n",
        "            img=cv2.imread(self.path+'/'+img_path)\n",
        "            img=cv2.cvtColor(img, cv2.COLOR_BGR2GRAY)\n",
        "            img=cv2.resize(img,(self.width,self.height))\n",
        "            img=(img/255).astype(np.float32)\n",
        "            img=img.T\n",
        "            img=np.expand_dims(img,axis=-1)\n",
        "            text=self.dataframe['IDENTITY'].values[idx]\n",
        "            text=str(text)\n",
        "            label=[]\n",
        "            for j in text:\n",
        "                if j in self.char_map :\n",
        "                    label.append(self.char_map[j])\n",
        "                else:\n",
        "                    label.append(100)\n",
        "            label.extend([100]*(22-len(label)))\n",
        "            batch_images[i]=img\n",
        "            batch_labels[i]=label\n",
        "            label_length[i]=len(label)\n",
        "        batch_inputs= {\n",
        "                'input_data':batch_images,\n",
        "                'input_label':batch_labels,\n",
        "                'input_length':input_length,\n",
        "                'label_length':label_length\n",
        "\n",
        "            }\n",
        "        return batch_inputs,np.zeros((self.batch_size),dtype=np.float32)\n",
        "    def on_epoch_end(self):\n",
        "        if self.shuffle == True :\n",
        "            np.random.shuffle(self.indices)\n",
        ""
      ],
      "metadata": {
        "execution": {
          "iopub.status.busy": "2023-12-26T11:12:34.426041Z",
          "iopub.execute_input": "2023-12-26T11:12:34.426300Z",
          "iopub.status.idle": "2023-12-26T11:12:34.444195Z",
          "shell.execute_reply.started": "2023-12-26T11:12:34.426275Z",
          "shell.execute_reply": "2023-12-26T11:12:34.443211Z"
        },
        "trusted": true,
        "id": "Sv7E3EVrES_u"
      },
      "execution_count": null,
      "outputs": []
    },
    {
      "cell_type": "code",
      "source": [
        "train_generator=DataGenerator(train,path_train,char_to_label)\n",
        "validation_generator=DataGenerator(validation,path_validation,char_to_label)"
      ],
      "metadata": {
        "execution": {
          "iopub.status.busy": "2023-12-26T11:12:34.445366Z",
          "iopub.execute_input": "2023-12-26T11:12:34.445644Z",
          "iopub.status.idle": "2023-12-26T11:12:34.462734Z",
          "shell.execute_reply.started": "2023-12-26T11:12:34.445617Z",
          "shell.execute_reply": "2023-12-26T11:12:34.461990Z"
        },
        "trusted": true,
        "id": "1lCvzbvCES_u"
      },
      "execution_count": null,
      "outputs": []
    },
    {
      "cell_type": "code",
      "source": [
        "# Making CTC Function\n",
        "class CTCLayer(L.Layer):\n",
        "    def __init__(self, name=None):\n",
        "        super().__init__(name=name)\n",
        "        self.loss_fn = keras.backend.ctc_batch_cost\n",
        "\n",
        "    def call(self, y_true, y_pred, input_length, label_length):\n",
        "        # Compute the training-time loss value and add it\n",
        "        # to the layer using `self.add_loss()`.\n",
        "        loss = self.loss_fn(y_true, y_pred, input_length, label_length)\n",
        "        self.add_loss(loss)\n",
        "\n",
        "        # On test time, just return the computed loss\n",
        "        return loss"
      ],
      "metadata": {
        "execution": {
          "iopub.status.busy": "2023-12-26T11:12:34.464162Z",
          "iopub.execute_input": "2023-12-26T11:12:34.464522Z",
          "iopub.status.idle": "2023-12-26T11:12:34.471444Z",
          "shell.execute_reply.started": "2023-12-26T11:12:34.464470Z",
          "shell.execute_reply": "2023-12-26T11:12:34.470480Z"
        },
        "trusted": true,
        "id": "AVUH0MkwES_v"
      },
      "execution_count": null,
      "outputs": []
    },
    {
      "cell_type": "markdown",
      "source": [
        "## Model Creation\n",
        "\n"
      ],
      "metadata": {
        "id": "xCU6NI_fEsqU"
      }
    },
    {
      "cell_type": "code",
      "source": [
        "# Making the Model\n",
        "def make_model():\n",
        "    inp=L.Input(shape=(256,64,1),dtype=np.float32,name='input_data')\n",
        "    labels=L.Input(shape=[22],dtype=np.float32,name='input_label')\n",
        "    input_length=L.Input(shape=[1],dtype=np.int64,name='input_length')\n",
        "    label_length=L.Input(shape=[1],dtype=np.int64,name='label_length')\n",
        "    x=L.Conv2D(64,(3,3),activation='relu',padding='same',kernel_initializer='he_normal')(inp)\n",
        "    x=L.MaxPooling2D(pool_size=(2,2))(x)\n",
        "    x=L.Dropout(0.3)(x)\n",
        "    x=L.Conv2D(128,(3,3),activation='relu',padding='same',kernel_initializer='he_normal')(x)\n",
        "    x=L.MaxPooling2D(pool_size=(2,2))(x)\n",
        "    x=L.Dropout(0.3)(x)\n",
        "    new_shape=((256//4),(64//4)*128)\n",
        "    x=L.Reshape(new_shape)(x)\n",
        "    x=L.Dense(64,activation='relu')(x)\n",
        "    x=L.Dropout(0.2)(x)\n",
        "    x=L.Bidirectional(L.LSTM(128,return_sequences=True,dropout=0.2))(x)\n",
        "    x=L.Bidirectional(L.LSTM(64,return_sequences=True,dropout=0.25))(x)\n",
        "    x=L.Dense(len(characters)+1,activation='softmax',kernel_initializer='he_normal',name='Dense_output')(x)\n",
        "    output=CTCLayer(name='outputs')(labels,x,input_length,label_length)\n",
        "    model=M.Model([inp,labels,input_length,label_length],output)\n",
        "    # Optimizer\n",
        "    sgd = keras.optimizers.SGD(learning_rate=0.002,\n",
        "                               decay=1e-6,\n",
        "                               momentum=0.9,\n",
        "                               nesterov=True,\n",
        "                               clipnorm=5)\n",
        "    model.compile(optimizer=sgd)\n",
        "    return model"
      ],
      "metadata": {
        "execution": {
          "iopub.status.busy": "2023-12-26T11:12:34.472733Z",
          "iopub.execute_input": "2023-12-26T11:12:34.473106Z",
          "iopub.status.idle": "2023-12-26T11:12:34.487149Z",
          "shell.execute_reply.started": "2023-12-26T11:12:34.473061Z",
          "shell.execute_reply": "2023-12-26T11:12:34.486192Z"
        },
        "trusted": true,
        "id": "Td48K98HES_v"
      },
      "execution_count": null,
      "outputs": []
    },
    {
      "cell_type": "code",
      "source": [
        "model=make_model()\n",
        "model.summary()"
      ],
      "metadata": {
        "execution": {
          "iopub.status.busy": "2023-12-26T11:12:34.488339Z",
          "iopub.execute_input": "2023-12-26T11:12:34.488656Z",
          "iopub.status.idle": "2023-12-26T11:12:38.059755Z",
          "shell.execute_reply.started": "2023-12-26T11:12:34.488627Z",
          "shell.execute_reply": "2023-12-26T11:12:38.058848Z"
        },
        "trusted": true,
        "id": "dw0cowD2ES_v",
        "outputId": "57864ba3-a882-47b6-9b86-1b748b20cdad"
      },
      "execution_count": null,
      "outputs": [
        {
          "name": "stdout",
          "text": "Model: \"model\"\n__________________________________________________________________________________________________\nLayer (type)                    Output Shape         Param #     Connected to                     \n==================================================================================================\ninput_data (InputLayer)         [(None, 256, 64, 1)] 0                                            \n__________________________________________________________________________________________________\nconv2d (Conv2D)                 (None, 256, 64, 64)  640         input_data[0][0]                 \n__________________________________________________________________________________________________\nmax_pooling2d (MaxPooling2D)    (None, 128, 32, 64)  0           conv2d[0][0]                     \n__________________________________________________________________________________________________\ndropout (Dropout)               (None, 128, 32, 64)  0           max_pooling2d[0][0]              \n__________________________________________________________________________________________________\nconv2d_1 (Conv2D)               (None, 128, 32, 128) 73856       dropout[0][0]                    \n__________________________________________________________________________________________________\nmax_pooling2d_1 (MaxPooling2D)  (None, 64, 16, 128)  0           conv2d_1[0][0]                   \n__________________________________________________________________________________________________\ndropout_1 (Dropout)             (None, 64, 16, 128)  0           max_pooling2d_1[0][0]            \n__________________________________________________________________________________________________\nreshape (Reshape)               (None, 64, 2048)     0           dropout_1[0][0]                  \n__________________________________________________________________________________________________\ndense (Dense)                   (None, 64, 64)       131136      reshape[0][0]                    \n__________________________________________________________________________________________________\ndropout_2 (Dropout)             (None, 64, 64)       0           dense[0][0]                      \n__________________________________________________________________________________________________\nbidirectional (Bidirectional)   (None, 64, 256)      197632      dropout_2[0][0]                  \n__________________________________________________________________________________________________\nbidirectional_1 (Bidirectional) (None, 64, 128)      164352      bidirectional[0][0]              \n__________________________________________________________________________________________________\ninput_label (InputLayer)        [(None, 22)]         0                                            \n__________________________________________________________________________________________________\nDense_output (Dense)            (None, 64, 31)       3999        bidirectional_1[0][0]            \n__________________________________________________________________________________________________\ninput_length (InputLayer)       [(None, 1)]          0                                            \n__________________________________________________________________________________________________\nlabel_length (InputLayer)       [(None, 1)]          0                                            \n__________________________________________________________________________________________________\noutputs (CTCLayer)              (None, 1)            0           input_label[0][0]                \n                                                                 Dense_output[0][0]               \n                                                                 input_length[0][0]               \n                                                                 label_length[0][0]               \n==================================================================================================\nTotal params: 571,615\nTrainable params: 571,615\nNon-trainable params: 0\n__________________________________________________________________________________________________\n",
          "output_type": "stream"
        }
      ]
    },
    {
      "cell_type": "markdown",
      "source": [
        "## Model Training"
      ],
      "metadata": {
        "id": "KWRB2ez8Ev3s"
      }
    },
    {
      "cell_type": "code",
      "source": [
        "# Add early stopping\n",
        "es = keras.callbacks.EarlyStopping(monitor='val_loss',\n",
        "                                   patience=5,\n",
        "                                   restore_best_weights=True)\n",
        "\n",
        "# Train the model\n",
        "if 'prediction_model_ocr.h5' not in os.listdir('./'):\n",
        "    history = model.fit(train_generator,steps_per_epoch=1000,validation_data=validation_generator,\n",
        "                        epochs=6)\n"
      ],
      "metadata": {
        "execution": {
          "iopub.status.busy": "2023-12-26T11:12:38.060935Z",
          "iopub.execute_input": "2023-12-26T11:12:38.061255Z",
          "iopub.status.idle": "2023-12-26T12:18:48.278246Z",
          "shell.execute_reply.started": "2023-12-26T11:12:38.061227Z",
          "shell.execute_reply": "2023-12-26T12:18:48.277320Z"
        },
        "trusted": true,
        "id": "bxFm6c8BES_v",
        "outputId": "63f43a1f-7d6f-48e2-ef21-86fd8e07e143"
      },
      "execution_count": null,
      "outputs": [
        {
          "name": "stdout",
          "text": "Epoch 1/6\n1000/1000 [==============================] - 1435s 1s/step - loss: 23.9950 - val_loss: 18.9719\nEpoch 2/6\n1000/1000 [==============================] - 840s 840ms/step - loss: 18.5256 - val_loss: 16.3491\nEpoch 3/6\n1000/1000 [==============================] - 578s 578ms/step - loss: 15.5241 - val_loss: 9.9704\nEpoch 4/6\n1000/1000 [==============================] - 462s 462ms/step - loss: 9.9157 - val_loss: 5.5094\nEpoch 5/6\n1000/1000 [==============================] - 332s 332ms/step - loss: 6.3807 - val_loss: 4.0310\nEpoch 6/6\n1000/1000 [==============================] - 318s 318ms/step - loss: 4.8064 - val_loss: 3.0615\n",
          "output_type": "stream"
        }
      ]
    },
    {
      "cell_type": "code",
      "source": [
        "prediction_model = keras.models.Model(model.get_layer(name='input_data').input,\n",
        "                                        model.get_layer(name='Dense_output').output)\n",
        "prediction_model.summary()"
      ],
      "metadata": {
        "execution": {
          "iopub.status.busy": "2023-12-26T12:18:48.279957Z",
          "iopub.execute_input": "2023-12-26T12:18:48.280265Z",
          "iopub.status.idle": "2023-12-26T12:18:48.293741Z",
          "shell.execute_reply.started": "2023-12-26T12:18:48.280236Z",
          "shell.execute_reply": "2023-12-26T12:18:48.292709Z"
        },
        "trusted": true,
        "id": "7fYCx2MuES_w",
        "outputId": "8363fb7c-5b3b-4722-840d-fab90d1ccfbc"
      },
      "execution_count": null,
      "outputs": [
        {
          "name": "stdout",
          "text": "Model: \"model_1\"\n_________________________________________________________________\nLayer (type)                 Output Shape              Param #   \n=================================================================\ninput_data (InputLayer)      [(None, 256, 64, 1)]      0         \n_________________________________________________________________\nconv2d (Conv2D)              (None, 256, 64, 64)       640       \n_________________________________________________________________\nmax_pooling2d (MaxPooling2D) (None, 128, 32, 64)       0         \n_________________________________________________________________\ndropout (Dropout)            (None, 128, 32, 64)       0         \n_________________________________________________________________\nconv2d_1 (Conv2D)            (None, 128, 32, 128)      73856     \n_________________________________________________________________\nmax_pooling2d_1 (MaxPooling2 (None, 64, 16, 128)       0         \n_________________________________________________________________\ndropout_1 (Dropout)          (None, 64, 16, 128)       0         \n_________________________________________________________________\nreshape (Reshape)            (None, 64, 2048)          0         \n_________________________________________________________________\ndense (Dense)                (None, 64, 64)            131136    \n_________________________________________________________________\ndropout_2 (Dropout)          (None, 64, 64)            0         \n_________________________________________________________________\nbidirectional (Bidirectional (None, 64, 256)           197632    \n_________________________________________________________________\nbidirectional_1 (Bidirection (None, 64, 128)           164352    \n_________________________________________________________________\nDense_output (Dense)         (None, 64, 31)            3999      \n=================================================================\nTotal params: 571,615\nTrainable params: 571,615\nNon-trainable params: 0\n_________________________________________________________________\n",
          "output_type": "stream"
        }
      ]
    },
    {
      "cell_type": "code",
      "source": [
        "if 'prediction_model_ocr.h5' not in os.listdir('./'):\n",
        "    prediction_model.save('prediction_model_ocr.h5')\n",
        "    prediction_model=M.load_model('prediction_model_ocr.h5')"
      ],
      "metadata": {
        "execution": {
          "iopub.status.busy": "2023-12-26T12:18:48.295009Z",
          "iopub.execute_input": "2023-12-26T12:18:48.295378Z",
          "iopub.status.idle": "2023-12-26T12:18:49.314096Z",
          "shell.execute_reply.started": "2023-12-26T12:18:48.295347Z",
          "shell.execute_reply": "2023-12-26T12:18:49.313227Z"
        },
        "trusted": true,
        "id": "AyAsi6mtES_w"
      },
      "execution_count": null,
      "outputs": []
    },
    {
      "cell_type": "code",
      "source": [
        "label_to_char[100]=''"
      ],
      "metadata": {
        "execution": {
          "iopub.status.busy": "2023-12-26T12:18:49.315234Z",
          "iopub.execute_input": "2023-12-26T12:18:49.315531Z",
          "iopub.status.idle": "2023-12-26T12:18:49.319341Z",
          "shell.execute_reply.started": "2023-12-26T12:18:49.315500Z",
          "shell.execute_reply": "2023-12-26T12:18:49.318470Z"
        },
        "trusted": true,
        "id": "Z0M0Z6xsES_w"
      },
      "execution_count": null,
      "outputs": []
    },
    {
      "cell_type": "code",
      "source": [
        "# A utility to decode the output of the network\n",
        "def decode_batch_predictions(pred):\n",
        "    pred = pred[:, :-2]\n",
        "    input_len = np.ones(pred.shape[0])*pred.shape[1]\n",
        "\n",
        "    # Use greedy search. For complex tasks, you can use beam search\n",
        "    results = keras.backend.ctc_decode(pred,\n",
        "                                        input_length=input_len,\n",
        "                                        greedy=True)[0][0]\n",
        "\n",
        "    # Iterate over the results and get back the text\n",
        "    output_text = []\n",
        "    for res in results.numpy():\n",
        "        outstr = ''\n",
        "        for c in res:\n",
        "            if c < len(characters) and c >=0:\n",
        "                outstr += label_to_char[c]\n",
        "        output_text.append(outstr)\n",
        "\n",
        "    # return final text results\n",
        "    return output_text"
      ],
      "metadata": {
        "execution": {
          "iopub.status.busy": "2023-12-26T12:18:49.320469Z",
          "iopub.execute_input": "2023-12-26T12:18:49.320796Z",
          "iopub.status.idle": "2023-12-26T12:18:49.328743Z",
          "shell.execute_reply.started": "2023-12-26T12:18:49.320767Z",
          "shell.execute_reply": "2023-12-26T12:18:49.327887Z"
        },
        "trusted": true,
        "id": "DmlJlCyIES_w"
      },
      "execution_count": null,
      "outputs": []
    },
    {
      "cell_type": "markdown",
      "source": [
        "## Model Evaluation"
      ],
      "metadata": {
        "id": "cweboKDBE3xE"
      }
    },
    {
      "cell_type": "code",
      "source": [
        "for p, (inp_value, _) in enumerate(validation_generator):\n",
        "    bs = inp_value['input_data'].shape[0]\n",
        "    X_data = inp_value['input_data']\n",
        "    labels = inp_value['input_label']\n",
        "    plt.imshow(X_data[0])\n",
        "    preds = prediction_model.predict(X_data)\n",
        "    pred_texts = decode_batch_predictions(preds)\n",
        "\n",
        "\n",
        "    orig_texts = []\n",
        "    for label in labels:\n",
        "        text = ''.join([label_to_char[int(x)] for x in label])\n",
        "        orig_texts.append(text)\n",
        "\n",
        "    for i in range(bs):\n",
        "        print(f'Ground truth: {orig_texts[i]} \\t Predicted: {pred_texts[i]}')\n",
        "    break"
      ],
      "metadata": {
        "execution": {
          "iopub.status.busy": "2023-12-26T12:18:49.330365Z",
          "iopub.execute_input": "2023-12-26T12:18:49.330744Z",
          "iopub.status.idle": "2023-12-26T12:18:52.130918Z",
          "shell.execute_reply.started": "2023-12-26T12:18:49.330705Z",
          "shell.execute_reply": "2023-12-26T12:18:52.130154Z"
        },
        "trusted": true,
        "id": "jYmBvWTWES_x",
        "outputId": "9dd0f072-0ae2-44fc-9cb0-0848205bde17"
      },
      "execution_count": null,
      "outputs": [
        {
          "name": "stdout",
          "text": "Ground truth: BENOIT \t Predicted: BENOIT\nGround truth: ANGELINE \t Predicted: ANGELINE\nGround truth: LEELOU \t Predicted: LEELOU\nGround truth: VERDELET \t Predicted: VERDELET\nGround truth: MAZVA \t Predicted: MAEVA\nGround truth: JENNA \t Predicted: JENNA\nGround truth: SAIDA \t Predicted: SAIDA\nGround truth: YASSINE \t Predicted: YASSINE\nGround truth: ALICE \t Predicted: ALICE\nGround truth: ABASSA \t Predicted: ABASIA\nGround truth: BOSIO \t Predicted: ROSIO\nGround truth: SHARKAWI \t Predicted: SHARAI\nGround truth: DRUOD \t Predicted: BRUOR\nGround truth: JOHANNA \t Predicted: JOHANNA\nGround truth: ALICIA \t Predicted: ALICIA\nGround truth: FLORIAN \t Predicted: FLORIAN\nGround truth: LEPROUX \t Predicted: LEPROUX\nGround truth: CLEMENT \t Predicted: CLEMENT\nGround truth: GALONNET \t Predicted: GACONNET\nGround truth: BAMMEZ \t Predicted: BAMMEZ\nGround truth: ISMAEL \t Predicted: FSMAEL\nGround truth: ANDRES \t Predicted: ANDRES\nGround truth: ORHAN \t Predicted: BRHAN\nGround truth: LILA \t Predicted: LILA\nGround truth: LUNTALA \t Predicted: LUNTALA\nGround truth: FERAGO \t Predicted: FARAGD\nGround truth: PAGANI \t Predicted: DAGANI\nGround truth: LUCAS \t Predicted: LUCAS\nGround truth: MAXIMILIAN \t Predicted: MAXIMILIAN\nGround truth: LISA \t Predicted: LISA\nGround truth: HUNDILU \t Predicted: HUNDILU\nGround truth: LEULLIETTE \t Predicted: LEULLIETTE\nGround truth: PARADOWSKI \t Predicted: PARADONSRI\nGround truth: FRANCHI \t Predicted: FRANCHZ\nGround truth: SAINTMARS \t Predicted: SAINTHARS\nGround truth: GERVAIS \t Predicted: GERVAIS\nGround truth: LISA \t Predicted: ELSA\nGround truth: ERDNA \t Predicted: ERDNA\nGround truth: REGGAM \t Predicted: RESGAH\nGround truth: CLIPET \t Predicted: CLIBET\nGround truth: SORIN \t Predicted: GORIN\nGround truth: ETHAN \t Predicted: ETHAN\nGround truth: FAHFOUHI \t Predicted: FAAFOUMI\nGround truth: LOUIS \t Predicted: LOUIS\nGround truth: VERDIER \t Predicted: VEROIER\nGround truth: LEVY-DAUCHEZ \t Predicted: LEVY-DAUCHEZ\nGround truth: DUSSAULE \t Predicted: DUSSAULE\nGround truth: JADE \t Predicted: SADE\nGround truth: GABOREAU \t Predicted: GABOGEAU\nGround truth: JULIEN \t Predicted: JULIEN\nGround truth: LOPES \t Predicted: LOBES\nGround truth: ELSA \t Predicted: ELSA\nGround truth: ELLIOT \t Predicted: ELLIOT\nGround truth: MATHYS \t Predicted: MATHIS\nGround truth: CORDANI \t Predicted: CORDANI\nGround truth: KELYAN \t Predicted: RLYAN\nGround truth: NICOLAS \t Predicted: NICOLAS\nGround truth: JOREAN \t Predicted: MASA\nGround truth: LANA \t Predicted: LANA\nGround truth: ASWINN \t Predicted: ROUINN\nGround truth: CORENTAN \t Predicted: CORENTAN\nGround truth: CHLOE \t Predicted: CHLLE\nGround truth: KYLIAN \t Predicted: EILIAN\nGround truth: LORIANE \t Predicted: LORIANE\nGround truth: LE QUERE \t Predicted: LE QUERE\nGround truth: PEDANOU \t Predicted: PEDANOU\nGround truth: STEPHAN \t Predicted: STEHAN\nGround truth: DUPLAND \t Predicted: SAMO\nGround truth: KERJOUAN \t Predicted: KERSOUAN\nGround truth: HANON \t Predicted: MANON\nGround truth: GRAMONT \t Predicted: GRANONT\nGround truth: JOUBERT \t Predicted: JOUBERT\nGround truth: RATAUO \t Predicted: RATAUS\nGround truth: MATHWEO \t Predicted: MATHEO\nGround truth: VALEZ BEAUPORT \t Predicted: VELEIZ-BEAUFORT\nGround truth: AEGO \t Predicted: REGO\nGround truth: LEA \t Predicted: LEA\nGround truth: PAUL \t Predicted: TOUL\nGround truth: CUNHA \t Predicted: CUMAS\nGround truth: PRUNE \t Predicted: PRUNE\nGround truth: NAUEAU \t Predicted: NAUEAU\nGround truth: TEIXEIRA \t Predicted: TEISEIRA\nGround truth: NACIM \t Predicted: MACIM\nGround truth: LOEVANN \t Predicted: LOEVAUN\nGround truth: LISSARDY \t Predicted: CISSARDU\nGround truth: NATHAN \t Predicted: NATHAN\nGround truth: LASNIER \t Predicted: LASNIER\nGround truth: CHLOE \t Predicted: CHLOE\nGround truth: CLAVEL \t Predicted: ELPIES\nGround truth: CLAUDIE \t Predicted: CLAUDIE\nGround truth: ALLICIO \t Predicted: ALLICIO\nGround truth: GEIGER \t Predicted: GEIGER\nGround truth: ANNE \t Predicted: ANNE\nGround truth: MATTEO \t Predicted: MATTS\nGround truth: SONNT \t Predicted: SONNT\nGround truth: PIERRE \t Predicted: DIEHAE\nGround truth: HERVO \t Predicted: MERVO\nGround truth: TARTU \t Predicted: TARTU\nGround truth: CLEMENT \t Predicted: CLEMENT\nGround truth: DJODY \t Predicted: DIDDY\nGround truth: COUDOUX \t Predicted: COUDOUX\nGround truth: RAMDANI \t Predicted: RAMDANI\nGround truth: BENJAMIN \t Predicted: BENSAMIN\nGround truth: DEXHEIMER \t Predicted: DEXMEIMER\nGround truth: EDOUARD \t Predicted: EOOUARD\nGround truth: GUILLET \t Predicted: GUILLET\nGround truth: LOANE \t Predicted: LOANE\nGround truth: LUCILE \t Predicted: LUCILE\nGround truth: PINCAU \t Predicted: PINCAU\nGround truth: ALEXIS \t Predicted: ALEXIS\nGround truth: MATTHIEU \t Predicted: MATTHIEU\nGround truth: SUBRA \t Predicted: SUBRA\nGround truth: HOCHART \t Predicted: MOCHART\nGround truth: FONTAINE \t Predicted: FONTAINE\nGround truth: LUDMILA \t Predicted: LUONMILA\nGround truth: CAPUCINE \t Predicted: CAPUCINE\nGround truth: DORIAN \t Predicted: DORIAN\nGround truth: CHAUVEAU \t Predicted: CHAUVEAU\nGround truth: HONA \t Predicted: MAMA\nGround truth: LOS \t Predicted: LOS\nGround truth: LECARDOWWEL \t Predicted: LECARBONVEL\nGround truth: GHISKIER \t Predicted: GHISRIER\nGround truth: LASNIER \t Predicted: LASHIER\nGround truth: HELOISE \t Predicted: MELOISE\nGround truth: MATHIS \t Predicted: MATHIS\nGround truth: TEDDY \t Predicted: TEDDY\nGround truth: CAMILLE \t Predicted: CAMILLE\nGround truth: TOMMY \t Predicted: TOMAS\n",
          "output_type": "stream"
        },
        {
          "output_type": "display_data",
          "data": {
            "text/plain": "<Figure size 432x288 with 1 Axes>",
            "image/png": "[encoded data removed]"
          },
          "metadata": {
            "needs_background": "light"
          }
        }
      ]
    },
    {
      "cell_type": "markdown",
      "source": [
        "## Model Testing"
      ],
      "metadata": {
        "id": "zZACbZu0E8P1"
      }
    },
    {
      "cell_type": "code",
      "source": [
        "batch_images=np.ones((128,256,64,1),dtype=np.float32)\n",
        "img=cv2.imread('../input/handwriting-recognition/test_v2/test/TEST_0004.jpg')\n",
        "img=cv2.cvtColor(img, cv2.COLOR_BGR2GRAY)\n",
        "img=cv2.resize(img,(256,64))\n",
        "img=(img/255).astype(np.float32)\n",
        "img=img.T\n",
        "img=np.expand_dims(img,axis=-1)\n",
        "batch_images[0]=img\n",
        "x=prediction_model.predict(batch_images)\n",
        "pred_texts = decode_batch_predictions(x)\n",
        "pred_texts = pred_texts[0]\n",
        "im=cv2.imread('../input/handwriting-recognition/test_v2/test/TEST_0004.jpg')\n",
        "plt.imshow(im)\n",
        "print('Predicted Text:',pred_texts)"
      ],
      "metadata": {
        "execution": {
          "iopub.status.busy": "2023-12-26T12:18:52.132034Z",
          "iopub.execute_input": "2023-12-26T12:18:52.132299Z",
          "iopub.status.idle": "2023-12-26T12:18:52.383254Z",
          "shell.execute_reply.started": "2023-12-26T12:18:52.132273Z",
          "shell.execute_reply": "2023-12-26T12:18:52.382403Z"
        },
        "trusted": true,
        "id": "XdBh430LES_x",
        "outputId": "6c9ff39d-7ae9-4af9-f14a-1314bc5ccdc3"
      },
      "execution_count": null,
      "outputs": [
        {
          "name": "stdout",
          "text": "Predicted Text: JULES\n",
          "output_type": "stream"
        },
        {
          "output_type": "display_data",
          "data": {
            "text/plain": "<Figure size 432x288 with 1 Axes>",
            "image/png": "[encoded data removed]"
          },
          "metadata": {
            "needs_background": "light"
          }
        }
      ]
    }
  ]
}